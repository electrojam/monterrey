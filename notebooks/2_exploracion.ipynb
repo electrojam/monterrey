{
 "cells": [
  {
   "cell_type": "code",
   "execution_count": 14,
   "metadata": {},
   "outputs": [],
   "source": [
    "import matplotlib.pyplot as plt\n",
    "import pandas as pd"
   ]
  },
  {
   "cell_type": "code",
   "execution_count": 15,
   "metadata": {},
   "outputs": [],
   "source": [
    "#cargamos df limpiado local\n",
    "compras_df = pd.read_csv('data/clean_compras.csv')"
   ]
  },
  {
   "cell_type": "code",
   "execution_count": 16,
   "metadata": {},
   "outputs": [
    {
     "data": {
      "text/html": [
       "<div>\n",
       "<style scoped>\n",
       "    .dataframe tbody tr th:only-of-type {\n",
       "        vertical-align: middle;\n",
       "    }\n",
       "\n",
       "    .dataframe tbody tr th {\n",
       "        vertical-align: top;\n",
       "    }\n",
       "\n",
       "    .dataframe thead th {\n",
       "        text-align: right;\n",
       "    }\n",
       "</style>\n",
       "<table border=\"1\" class=\"dataframe\">\n",
       "  <thead>\n",
       "    <tr style=\"text-align: right;\">\n",
       "      <th></th>\n",
       "      <th>NUM BEN</th>\n",
       "      <th>BENEFICIARIO</th>\n",
       "      <th>RFC</th>\n",
       "      <th>FACTURA</th>\n",
       "      <th>CONTRATO</th>\n",
       "      <th>CONCEPTO</th>\n",
       "      <th>TIPO</th>\n",
       "      <th># OP</th>\n",
       "      <th>FECHA</th>\n",
       "      <th>IMPORTE</th>\n",
       "      <th>SHEET</th>\n",
       "    </tr>\n",
       "  </thead>\n",
       "  <tbody>\n",
       "    <tr>\n",
       "      <th>0</th>\n",
       "      <td>110152</td>\n",
       "      <td>LLANTAS Y SERVICIOS SERNA ANAHUAC,S.A. DE C.V.</td>\n",
       "      <td>LSS841015DV3</td>\n",
       "      <td>LLS AF8458-158008-3972</td>\n",
       "      <td>OT. 20204373</td>\n",
       "      <td>REEMPLAZO E INSTALACION DE AMORTIGUADORES (DEL...</td>\n",
       "      <td>TR</td>\n",
       "      <td>1019110.0</td>\n",
       "      <td>2020-12-11</td>\n",
       "      <td>14911.80</td>\n",
       "      <td>GASTOS VARIOS</td>\n",
       "    </tr>\n",
       "    <tr>\n",
       "      <th>1</th>\n",
       "      <td>110152</td>\n",
       "      <td>LLANTAS Y SERVICIOS SERNA ANAHUAC,S.A. DE C.V.</td>\n",
       "      <td>LSS841015DV3</td>\n",
       "      <td>LLS PF6916-158008-4041</td>\n",
       "      <td>OT. 20204425</td>\n",
       "      <td>REEMPLAZO E INSTALACION DE OCHO BIRLOS Y NUEVE...</td>\n",
       "      <td>TR</td>\n",
       "      <td>1019110.0</td>\n",
       "      <td>2020-12-11</td>\n",
       "      <td>2528.80</td>\n",
       "      <td>GASTOS VARIOS</td>\n",
       "    </tr>\n",
       "    <tr>\n",
       "      <th>2</th>\n",
       "      <td>110152</td>\n",
       "      <td>LLANTAS Y SERVICIOS SERNA ANAHUAC,S.A. DE C.V.</td>\n",
       "      <td>LSS841015DV3</td>\n",
       "      <td>LLS PF6917-158008-3975</td>\n",
       "      <td>OT. 20204376</td>\n",
       "      <td>REEMPLAZO DE DOS RINES  (17). PATRIMONIO 80383...</td>\n",
       "      <td>TR</td>\n",
       "      <td>1019110.0</td>\n",
       "      <td>2020-12-11</td>\n",
       "      <td>8500.02</td>\n",
       "      <td>GASTOS VARIOS</td>\n",
       "    </tr>\n",
       "    <tr>\n",
       "      <th>3</th>\n",
       "      <td>110152</td>\n",
       "      <td>LLANTAS Y SERVICIOS SERNA ANAHUAC,S.A. DE C.V.</td>\n",
       "      <td>LSS841015DV3</td>\n",
       "      <td>LLS PF7004-158008-3971</td>\n",
       "      <td>OT. 20204374</td>\n",
       "      <td>REEMPLAZO DE  DOS RINES  (14). PATRIMONIO 8007...</td>\n",
       "      <td>TR</td>\n",
       "      <td>1019110.0</td>\n",
       "      <td>2020-12-11</td>\n",
       "      <td>2400.01</td>\n",
       "      <td>GASTOS VARIOS</td>\n",
       "    </tr>\n",
       "    <tr>\n",
       "      <th>4</th>\n",
       "      <td>110152</td>\n",
       "      <td>LLANTAS Y SERVICIOS SERNA ANAHUAC,S.A. DE C.V.</td>\n",
       "      <td>LSS841015DV3</td>\n",
       "      <td>LLS PF7137-158008-4554</td>\n",
       "      <td>OT. 20205130</td>\n",
       "      <td>REEMPLAZO E INSTALACION DE RIN 14. PATRIMONIO ...</td>\n",
       "      <td>TR</td>\n",
       "      <td>299001496.0</td>\n",
       "      <td>2020-12-23</td>\n",
       "      <td>1537.00</td>\n",
       "      <td>GASTOS VARIOS</td>\n",
       "    </tr>\n",
       "  </tbody>\n",
       "</table>\n",
       "</div>"
      ],
      "text/plain": [
       "   NUM BEN                                    BENEFICIARIO           RFC  \\\n",
       "0   110152  LLANTAS Y SERVICIOS SERNA ANAHUAC,S.A. DE C.V.  LSS841015DV3   \n",
       "1   110152  LLANTAS Y SERVICIOS SERNA ANAHUAC,S.A. DE C.V.  LSS841015DV3   \n",
       "2   110152  LLANTAS Y SERVICIOS SERNA ANAHUAC,S.A. DE C.V.  LSS841015DV3   \n",
       "3   110152  LLANTAS Y SERVICIOS SERNA ANAHUAC,S.A. DE C.V.  LSS841015DV3   \n",
       "4   110152  LLANTAS Y SERVICIOS SERNA ANAHUAC,S.A. DE C.V.  LSS841015DV3   \n",
       "\n",
       "                  FACTURA      CONTRATO  \\\n",
       "0  LLS AF8458-158008-3972  OT. 20204373   \n",
       "1  LLS PF6916-158008-4041  OT. 20204425   \n",
       "2  LLS PF6917-158008-3975  OT. 20204376   \n",
       "3  LLS PF7004-158008-3971  OT. 20204374   \n",
       "4  LLS PF7137-158008-4554  OT. 20205130   \n",
       "\n",
       "                                            CONCEPTO TIPO         # OP  \\\n",
       "0  REEMPLAZO E INSTALACION DE AMORTIGUADORES (DEL...   TR    1019110.0   \n",
       "1  REEMPLAZO E INSTALACION DE OCHO BIRLOS Y NUEVE...   TR    1019110.0   \n",
       "2  REEMPLAZO DE DOS RINES  (17). PATRIMONIO 80383...   TR    1019110.0   \n",
       "3  REEMPLAZO DE  DOS RINES  (14). PATRIMONIO 8007...   TR    1019110.0   \n",
       "4  REEMPLAZO E INSTALACION DE RIN 14. PATRIMONIO ...   TR  299001496.0   \n",
       "\n",
       "        FECHA   IMPORTE          SHEET  \n",
       "0  2020-12-11  14911.80  GASTOS VARIOS  \n",
       "1  2020-12-11   2528.80  GASTOS VARIOS  \n",
       "2  2020-12-11   8500.02  GASTOS VARIOS  \n",
       "3  2020-12-11   2400.01  GASTOS VARIOS  \n",
       "4  2020-12-23   1537.00  GASTOS VARIOS  "
      ]
     },
     "execution_count": 16,
     "metadata": {},
     "output_type": "execute_result"
    }
   ],
   "source": [
    "compras_df.head()"
   ]
  },
  {
   "cell_type": "markdown",
   "metadata": {},
   "source": [
    "## Visión general del dataset"
   ]
  },
  {
   "cell_type": "markdown",
   "metadata": {},
   "source": []
  },
  {
   "cell_type": "code",
   "execution_count": 17,
   "metadata": {},
   "outputs": [
    {
     "data": {
      "text/plain": [
       "Index(['NUM BEN', 'BENEFICIARIO', 'RFC', 'FACTURA', 'CONTRATO', 'CONCEPTO',\n",
       "       'TIPO', '# OP', 'FECHA', 'IMPORTE', 'SHEET'],\n",
       "      dtype='object')"
      ]
     },
     "execution_count": 17,
     "metadata": {},
     "output_type": "execute_result"
    }
   ],
   "source": [
    "# qué columnas de datos tenemos\n",
    "compras_df.columns"
   ]
  },
  {
   "cell_type": "code",
   "execution_count": 18,
   "metadata": {},
   "outputs": [
    {
     "data": {
      "text/plain": [
       "NUM BEN           int64\n",
       "BENEFICIARIO     object\n",
       "RFC              object\n",
       "FACTURA          object\n",
       "CONTRATO         object\n",
       "CONCEPTO         object\n",
       "TIPO             object\n",
       "# OP            float64\n",
       "FECHA            object\n",
       "IMPORTE         float64\n",
       "SHEET            object\n",
       "dtype: object"
      ]
     },
     "execution_count": 18,
     "metadata": {},
     "output_type": "execute_result"
    }
   ],
   "source": [
    "# miramos los tipos de variables\n",
    "compras_df.dtypes"
   ]
  },
  {
   "cell_type": "code",
   "execution_count": 19,
   "metadata": {},
   "outputs": [
    {
     "data": {
      "text/html": [
       "<div>\n",
       "<style scoped>\n",
       "    .dataframe tbody tr th:only-of-type {\n",
       "        vertical-align: middle;\n",
       "    }\n",
       "\n",
       "    .dataframe tbody tr th {\n",
       "        vertical-align: top;\n",
       "    }\n",
       "\n",
       "    .dataframe thead th {\n",
       "        text-align: right;\n",
       "    }\n",
       "</style>\n",
       "<table border=\"1\" class=\"dataframe\">\n",
       "  <thead>\n",
       "    <tr style=\"text-align: right;\">\n",
       "      <th></th>\n",
       "      <th>NUM BEN</th>\n",
       "      <th># OP</th>\n",
       "      <th>IMPORTE</th>\n",
       "    </tr>\n",
       "  </thead>\n",
       "  <tbody>\n",
       "    <tr>\n",
       "      <th>count</th>\n",
       "      <td>1540.000000</td>\n",
       "      <td>1.540000e+03</td>\n",
       "      <td>1.540000e+03</td>\n",
       "    </tr>\n",
       "    <tr>\n",
       "      <th>mean</th>\n",
       "      <td>203914.777273</td>\n",
       "      <td>1.920050e+08</td>\n",
       "      <td>6.263179e+05</td>\n",
       "    </tr>\n",
       "    <tr>\n",
       "      <th>std</th>\n",
       "      <td>92435.932025</td>\n",
       "      <td>1.411189e+08</td>\n",
       "      <td>4.666912e+06</td>\n",
       "    </tr>\n",
       "    <tr>\n",
       "      <th>min</th>\n",
       "      <td>110152.000000</td>\n",
       "      <td>1.019042e+06</td>\n",
       "      <td>8.600000e-01</td>\n",
       "    </tr>\n",
       "    <tr>\n",
       "      <th>25%</th>\n",
       "      <td>116223.000000</td>\n",
       "      <td>1.019144e+06</td>\n",
       "      <td>2.987000e+03</td>\n",
       "    </tr>\n",
       "    <tr>\n",
       "      <th>50%</th>\n",
       "      <td>203013.000000</td>\n",
       "      <td>2.980000e+08</td>\n",
       "      <td>1.235584e+04</td>\n",
       "    </tr>\n",
       "    <tr>\n",
       "      <th>75%</th>\n",
       "      <td>311250.000000</td>\n",
       "      <td>3.000001e+08</td>\n",
       "      <td>1.130583e+05</td>\n",
       "    </tr>\n",
       "    <tr>\n",
       "      <th>max</th>\n",
       "      <td>370012.000000</td>\n",
       "      <td>6.040001e+08</td>\n",
       "      <td>1.267303e+08</td>\n",
       "    </tr>\n",
       "  </tbody>\n",
       "</table>\n",
       "</div>"
      ],
      "text/plain": [
       "             NUM BEN          # OP       IMPORTE\n",
       "count    1540.000000  1.540000e+03  1.540000e+03\n",
       "mean   203914.777273  1.920050e+08  6.263179e+05\n",
       "std     92435.932025  1.411189e+08  4.666912e+06\n",
       "min    110152.000000  1.019042e+06  8.600000e-01\n",
       "25%    116223.000000  1.019144e+06  2.987000e+03\n",
       "50%    203013.000000  2.980000e+08  1.235584e+04\n",
       "75%    311250.000000  3.000001e+08  1.130583e+05\n",
       "max    370012.000000  6.040001e+08  1.267303e+08"
      ]
     },
     "execution_count": 19,
     "metadata": {},
     "output_type": "execute_result"
    }
   ],
   "source": [
    "# resumen cálculo de las variables numéricas\n",
    "compras_df.describe()"
   ]
  },
  {
   "cell_type": "code",
   "execution_count": 20,
   "metadata": {},
   "outputs": [],
   "source": [
    "# Solo trabajaremos con las siguientes columnaas:\n",
    "compras_df = compras_df[['BENEFICIARIO', 'FACTURA', 'CONTRATO', 'CONCEPTO', 'TIPO', '# OP','FECHA', 'IMPORTE', 'SHEET']]"
   ]
  },
  {
   "cell_type": "markdown",
   "metadata": {},
   "source": [
    "## Análisis unidimensional de las variables"
   ]
  },
  {
   "cell_type": "code",
   "execution_count": 25,
   "metadata": {},
   "outputs": [
    {
     "data": {
      "text/plain": [
       "SHEET\n",
       "CONTRATISTAS Y FDO FED    724\n",
       "GASTOS VARIOS             690\n",
       "COMUNICACION               71\n",
       "SERV. PERS.                46\n",
       "SERV PPROF                  9\n",
       "Name: count, dtype: int64"
      ]
     },
     "execution_count": 25,
     "metadata": {},
     "output_type": "execute_result"
    }
   ],
   "source": [
    "# Contamos los datos únicos que tiene la columna 'SHEETS'\n",
    "# Es decir cuantos datos datos tienen cada hoa o sheet que importamos del excel\n",
    "compras_df['SHEET'].value_counts()\n"
   ]
  },
  {
   "cell_type": "code",
   "execution_count": 29,
   "metadata": {},
   "outputs": [
    {
     "data": {
      "text/plain": [
       "1396"
      ]
     },
     "execution_count": 29,
     "metadata": {},
     "output_type": "execute_result"
    }
   ],
   "source": [
    "# Cantidad de observaciones o datos únicos de column CONCEPTO\n",
    "len(compras_df['CONCEPTO'].unique())"
   ]
  },
  {
   "cell_type": "code",
   "execution_count": 32,
   "metadata": {},
   "outputs": [
    {
     "data": {
      "text/plain": [
       "BENEFICIARIO\n",
       "CAMARA MEXICANA DE LA INDUSTRIA DE LA CONSTRUCCION    266\n",
       "AUTOKAM REGIOMONTANA,S.A.DE C.V.                      101\n",
       "CAR ONE MONTERREY, S.A. DE C.V.                        78\n",
       "PEREZ RIOS RAMIRO                                      58\n",
       "S.I.M.E.P.R.O.D.E.                                     50\n",
       "INTERASFALTOS, S.A. DE C.V.                            45\n",
       "GRUPO COYOTE MONTERREY, S.A. DE C.V.                   43\n",
       "SERVICIO TECNICO CHURUBUSCO, S.A. DE C.V.              30\n",
       "CFE SUMINISTRADOR DE SERVICIOS BASICOS                 29\n",
       "CORDERO MACIAS SILVESTRE GUADALUPE                     27\n",
       "Name: count, dtype: int64"
      ]
     },
     "execution_count": 32,
     "metadata": {},
     "output_type": "execute_result"
    }
   ],
   "source": [
    "# Cantidad de facturas que ha hecho los 10 mayores proveedores o beneficiarios\n",
    "compras_df['BENEFICIARIO'].value_counts()[0:10]"
   ]
  },
  {
   "cell_type": "code",
   "execution_count": 33,
   "metadata": {},
   "outputs": [
    {
     "data": {
      "text/plain": [
       "<Axes: >"
      ]
     },
     "execution_count": 33,
     "metadata": {},
     "output_type": "execute_result"
    },
    {
     "data": {
      "image/png": "[encoded data removed]",
      "text/plain": [
       "<Figure size 640x480 with 1 Axes>"
      ]
     },
     "metadata": {},
     "output_type": "display_data"
    }
   ],
   "source": [
    "# Análisis numérico mediante histograma variable numérica 'IMPORTE'\n",
    "compras_df['IMPORTE'].hist()"
   ]
  },
  {
   "cell_type": "code",
   "execution_count": 35,
   "metadata": {},
   "outputs": [
    {
     "data": {
      "text/plain": [
       "<Axes: >"
      ]
     },
     "execution_count": 35,
     "metadata": {},
     "output_type": "execute_result"
    },
    {
     "data": {
      "image/png": "[encoded data removed]",
      "text/plain": [
       "<Figure size 640x480 with 1 Axes>"
      ]
     },
     "metadata": {},
     "output_type": "display_data"
    }
   ],
   "source": [
    "# Análisis numérico mediante histograma variable numérica 'IMPORTE'\n",
    "# Haciendo zoom en el quentil 5%\n",
    "compras_df[compras_df['IMPORTE'] < compras_df['IMPORTE'].quantile(0.95)]['IMPORTE'].hist()"
   ]
  },
  {
   "cell_type": "code",
   "execution_count": 36,
   "metadata": {},
   "outputs": [
    {
     "data": {
      "text/plain": [
       "<Axes: >"
      ]
     },
     "execution_count": 36,
     "metadata": {},
     "output_type": "execute_result"
    },
    {
     "data": {
      "image/png": "[encoded data removed]",
      "text/plain": [
       "<Figure size 640x480 with 1 Axes>"
      ]
     },
     "metadata": {},
     "output_type": "display_data"
    }
   ],
   "source": [
    "# Análisis numérico mediante histograma variable numérica 'IMPORTE'\n",
    "# Haciendo zoom en el quentil 5%\n",
    "# con 50 bins o separaciones\n",
    "compras_df[compras_df['IMPORTE'] < compras_df['IMPORTE'].quantile(0.95)]['IMPORTE'].hist(bins=50)"
   ]
  },
  {
   "cell_type": "code",
   "execution_count": 38,
   "metadata": {},
   "outputs": [
    {
     "data": {
      "text/html": [
       "<div>\n",
       "<style scoped>\n",
       "    .dataframe tbody tr th:only-of-type {\n",
       "        vertical-align: middle;\n",
       "    }\n",
       "\n",
       "    .dataframe tbody tr th {\n",
       "        vertical-align: top;\n",
       "    }\n",
       "\n",
       "    .dataframe thead th {\n",
       "        text-align: right;\n",
       "    }\n",
       "</style>\n",
       "<table border=\"1\" class=\"dataframe\">\n",
       "  <thead>\n",
       "    <tr style=\"text-align: right;\">\n",
       "      <th></th>\n",
       "      <th>BENEFICIARIO</th>\n",
       "      <th>FACTURA</th>\n",
       "      <th>CONTRATO</th>\n",
       "      <th>CONCEPTO</th>\n",
       "      <th>TIPO</th>\n",
       "      <th># OP</th>\n",
       "      <th>FECHA</th>\n",
       "      <th>IMPORTE</th>\n",
       "      <th>SHEET</th>\n",
       "    </tr>\n",
       "  </thead>\n",
       "  <tbody>\n",
       "    <tr>\n",
       "      <th>0</th>\n",
       "      <td>LLANTAS Y SERVICIOS SERNA ANAHUAC,S.A. DE C.V.</td>\n",
       "      <td>LLS AF8458-158008-3972</td>\n",
       "      <td>OT. 20204373</td>\n",
       "      <td>REEMPLAZO E INSTALACION DE AMORTIGUADORES (DEL...</td>\n",
       "      <td>TR</td>\n",
       "      <td>1019110.0</td>\n",
       "      <td>2020-12-11</td>\n",
       "      <td>14911.80</td>\n",
       "      <td>GASTOS VARIOS</td>\n",
       "    </tr>\n",
       "    <tr>\n",
       "      <th>1</th>\n",
       "      <td>LLANTAS Y SERVICIOS SERNA ANAHUAC,S.A. DE C.V.</td>\n",
       "      <td>LLS PF6916-158008-4041</td>\n",
       "      <td>OT. 20204425</td>\n",
       "      <td>REEMPLAZO E INSTALACION DE OCHO BIRLOS Y NUEVE...</td>\n",
       "      <td>TR</td>\n",
       "      <td>1019110.0</td>\n",
       "      <td>2020-12-11</td>\n",
       "      <td>2528.80</td>\n",
       "      <td>GASTOS VARIOS</td>\n",
       "    </tr>\n",
       "    <tr>\n",
       "      <th>2</th>\n",
       "      <td>LLANTAS Y SERVICIOS SERNA ANAHUAC,S.A. DE C.V.</td>\n",
       "      <td>LLS PF6917-158008-3975</td>\n",
       "      <td>OT. 20204376</td>\n",
       "      <td>REEMPLAZO DE DOS RINES  (17). PATRIMONIO 80383...</td>\n",
       "      <td>TR</td>\n",
       "      <td>1019110.0</td>\n",
       "      <td>2020-12-11</td>\n",
       "      <td>8500.02</td>\n",
       "      <td>GASTOS VARIOS</td>\n",
       "    </tr>\n",
       "    <tr>\n",
       "      <th>3</th>\n",
       "      <td>LLANTAS Y SERVICIOS SERNA ANAHUAC,S.A. DE C.V.</td>\n",
       "      <td>LLS PF7004-158008-3971</td>\n",
       "      <td>OT. 20204374</td>\n",
       "      <td>REEMPLAZO DE  DOS RINES  (14). PATRIMONIO 8007...</td>\n",
       "      <td>TR</td>\n",
       "      <td>1019110.0</td>\n",
       "      <td>2020-12-11</td>\n",
       "      <td>2400.01</td>\n",
       "      <td>GASTOS VARIOS</td>\n",
       "    </tr>\n",
       "    <tr>\n",
       "      <th>4</th>\n",
       "      <td>LLANTAS Y SERVICIOS SERNA ANAHUAC,S.A. DE C.V.</td>\n",
       "      <td>LLS PF7137-158008-4554</td>\n",
       "      <td>OT. 20205130</td>\n",
       "      <td>REEMPLAZO E INSTALACION DE RIN 14. PATRIMONIO ...</td>\n",
       "      <td>TR</td>\n",
       "      <td>299001496.0</td>\n",
       "      <td>2020-12-23</td>\n",
       "      <td>1537.00</td>\n",
       "      <td>GASTOS VARIOS</td>\n",
       "    </tr>\n",
       "  </tbody>\n",
       "</table>\n",
       "</div>"
      ],
      "text/plain": [
       "                                     BENEFICIARIO                 FACTURA  \\\n",
       "0  LLANTAS Y SERVICIOS SERNA ANAHUAC,S.A. DE C.V.  LLS AF8458-158008-3972   \n",
       "1  LLANTAS Y SERVICIOS SERNA ANAHUAC,S.A. DE C.V.  LLS PF6916-158008-4041   \n",
       "2  LLANTAS Y SERVICIOS SERNA ANAHUAC,S.A. DE C.V.  LLS PF6917-158008-3975   \n",
       "3  LLANTAS Y SERVICIOS SERNA ANAHUAC,S.A. DE C.V.  LLS PF7004-158008-3971   \n",
       "4  LLANTAS Y SERVICIOS SERNA ANAHUAC,S.A. DE C.V.  LLS PF7137-158008-4554   \n",
       "\n",
       "       CONTRATO                                           CONCEPTO TIPO  \\\n",
       "0  OT. 20204373  REEMPLAZO E INSTALACION DE AMORTIGUADORES (DEL...   TR   \n",
       "1  OT. 20204425  REEMPLAZO E INSTALACION DE OCHO BIRLOS Y NUEVE...   TR   \n",
       "2  OT. 20204376  REEMPLAZO DE DOS RINES  (17). PATRIMONIO 80383...   TR   \n",
       "3  OT. 20204374  REEMPLAZO DE  DOS RINES  (14). PATRIMONIO 8007...   TR   \n",
       "4  OT. 20205130  REEMPLAZO E INSTALACION DE RIN 14. PATRIMONIO ...   TR   \n",
       "\n",
       "          # OP       FECHA   IMPORTE          SHEET  \n",
       "0    1019110.0  2020-12-11  14911.80  GASTOS VARIOS  \n",
       "1    1019110.0  2020-12-11   2528.80  GASTOS VARIOS  \n",
       "2    1019110.0  2020-12-11   8500.02  GASTOS VARIOS  \n",
       "3    1019110.0  2020-12-11   2400.01  GASTOS VARIOS  \n",
       "4  299001496.0  2020-12-23   1537.00  GASTOS VARIOS  "
      ]
     },
     "execution_count": 38,
     "metadata": {},
     "output_type": "execute_result"
    }
   ],
   "source": [
    "# Revisamos los datos del 5% de los datos mayores de 'IMPORTE' \n",
    "# mostrando solo los 5 primeros resgistros.\n",
    "compras_df[compras_df['IMPORTE'] < compras_df['IMPORTE'].quantile(0.95)].head()"
   ]
  },
  {
   "cell_type": "markdown",
   "metadata": {},
   "source": [
    "## Análisis multidimensional de las variables"
   ]
  },
  {
   "cell_type": "markdown",
   "metadata": {},
   "source": []
  },
  {
   "cell_type": "markdown",
   "metadata": {},
   "source": [
    "## Análisis de texto"
   ]
  },
  {
   "cell_type": "markdown",
   "metadata": {},
   "source": []
  }
 ],
 "metadata": {
  "kernelspec": {
   "display_name": "monterrey",
   "language": "python",
   "name": "python3"
  },
  "language_info": {
   "codemirror_mode": {
    "name": "ipython",
    "version": 3
   },
   "file_extension": ".py",
   "mimetype": "text/x-python",
   "name": "python",
   "nbconvert_exporter": "python",
   "pygments_lexer": "ipython3",
   "version": "3.12.4"
  }
 },
 "nbformat": 4,
 "nbformat_minor": 2
}
